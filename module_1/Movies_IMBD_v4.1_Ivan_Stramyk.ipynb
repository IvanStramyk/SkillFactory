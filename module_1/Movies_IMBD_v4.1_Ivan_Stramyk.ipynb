{
 "cells": [
  {
   "cell_type": "code",
   "execution_count": 11,
   "metadata": {
    "_cell_guid": "b1076dfc-b9ad-4769-8c92-a6c4dae69d19",
    "_uuid": "8f2839f25d086af736a60e9eeb907d3b93b6e0e5",
    "colab": {},
    "colab_type": "code",
    "id": "U2D2gTdJVp90"
   },
   "outputs": [],
   "source": [
    "import numpy as np\n",
    "import pandas as pd\n",
    "import seaborn as sns\n",
    "import matplotlib.pyplot as plt\n",
    "from collections import Counter"
   ]
  },
  {
   "cell_type": "code",
   "execution_count": 65,
   "metadata": {
    "_cell_guid": "79c7e3d0-c299-4dcb-8224-4455121ee9b0",
    "_uuid": "d629ff2d2480ee46fbb7e2d37f6b5fab8052498a",
    "colab": {},
    "colab_type": "code",
    "id": "oyGfxL3eVp9-"
   },
   "outputs": [
    {
     "data": {
      "text/html": [
       "<div>\n",
       "<style scoped>\n",
       "    .dataframe tbody tr th:only-of-type {\n",
       "        vertical-align: middle;\n",
       "    }\n",
       "\n",
       "    .dataframe tbody tr th {\n",
       "        vertical-align: top;\n",
       "    }\n",
       "\n",
       "    .dataframe thead th {\n",
       "        text-align: right;\n",
       "    }\n",
       "</style>\n",
       "<table border=\"1\" class=\"dataframe\">\n",
       "  <thead>\n",
       "    <tr style=\"text-align: right;\">\n",
       "      <th></th>\n",
       "      <th>imdb_id</th>\n",
       "      <th>budget</th>\n",
       "      <th>revenue</th>\n",
       "      <th>original_title</th>\n",
       "      <th>cast</th>\n",
       "      <th>director</th>\n",
       "      <th>tagline</th>\n",
       "      <th>overview</th>\n",
       "      <th>runtime</th>\n",
       "      <th>genres</th>\n",
       "      <th>production_companies</th>\n",
       "      <th>release_date</th>\n",
       "      <th>vote_average</th>\n",
       "      <th>release_year</th>\n",
       "      <th>profit</th>\n",
       "    </tr>\n",
       "  </thead>\n",
       "  <tbody>\n",
       "    <tr>\n",
       "      <th>208</th>\n",
       "      <td>tt2318092</td>\n",
       "      <td>20000000</td>\n",
       "      <td>34077920</td>\n",
       "      <td>Endless Love</td>\n",
       "      <td>Alex Pettyfer|Gabriella Wilde|Robert Patrick|R...</td>\n",
       "      <td>Shana Feste</td>\n",
       "      <td>Say Goodbye to Innocence</td>\n",
       "      <td>When beautiful Jade (Gabriella Wilde) meets ch...</td>\n",
       "      <td>103</td>\n",
       "      <td>Drama|Romance</td>\n",
       "      <td>Universal Pictures|Fake Empire|Bluegrass Films</td>\n",
       "      <td>2/12/2014</td>\n",
       "      <td>6.6</td>\n",
       "      <td>2014</td>\n",
       "      <td>14077920</td>\n",
       "    </tr>\n",
       "    <tr>\n",
       "      <th>1619</th>\n",
       "      <td>tt0368008</td>\n",
       "      <td>80000000</td>\n",
       "      <td>96105964</td>\n",
       "      <td>The Manchurian Candidate</td>\n",
       "      <td>Denzel Washington|Meryl Streep|Liev Schreiber|...</td>\n",
       "      <td>Jonathan Demme</td>\n",
       "      <td>This summer everything is under control.</td>\n",
       "      <td>When his army unit was ambushed during the fir...</td>\n",
       "      <td>129</td>\n",
       "      <td>Drama|Thriller|Mystery</td>\n",
       "      <td>Paramount Pictures|Scott Rudin Productions|Cli...</td>\n",
       "      <td>7/30/2004</td>\n",
       "      <td>6.1</td>\n",
       "      <td>2004</td>\n",
       "      <td>16105964</td>\n",
       "    </tr>\n",
       "    <tr>\n",
       "      <th>1070</th>\n",
       "      <td>tt1840417</td>\n",
       "      <td>6000000</td>\n",
       "      <td>13231461</td>\n",
       "      <td>The Words</td>\n",
       "      <td>Bradley Cooper|Zoe Saldana|Jeremy Irons|Dennis...</td>\n",
       "      <td>Brian Klugman|Lee Sternthal</td>\n",
       "      <td>There's more than one way to take a life.</td>\n",
       "      <td>The Words follows young writer Rory Jansen who...</td>\n",
       "      <td>96</td>\n",
       "      <td>Drama|Thriller</td>\n",
       "      <td>Serenade Films|CBS Films|Also Known As Pictures</td>\n",
       "      <td>9/7/2012</td>\n",
       "      <td>6.3</td>\n",
       "      <td>2012</td>\n",
       "      <td>7231461</td>\n",
       "    </tr>\n",
       "    <tr>\n",
       "      <th>1628</th>\n",
       "      <td>tt0361596</td>\n",
       "      <td>6000000</td>\n",
       "      <td>119114517</td>\n",
       "      <td>Fahrenheit 9/11</td>\n",
       "      <td>Michael Moore|George W. Bush|Ben Affleck|Stevi...</td>\n",
       "      <td>Michael Moore</td>\n",
       "      <td>Controversy... what controversy?</td>\n",
       "      <td>Michael Moore's view on what happened to the U...</td>\n",
       "      <td>122</td>\n",
       "      <td>Documentary</td>\n",
       "      <td>BIM Distribuzione|Fellowship Adventure Group</td>\n",
       "      <td>6/25/2004</td>\n",
       "      <td>6.6</td>\n",
       "      <td>2004</td>\n",
       "      <td>113114517</td>\n",
       "    </tr>\n",
       "    <tr>\n",
       "      <th>55</th>\n",
       "      <td>tt1502712</td>\n",
       "      <td>120000001</td>\n",
       "      <td>167977596</td>\n",
       "      <td>Fantastic Four</td>\n",
       "      <td>Miles Teller|Kate Mara|Michael B. Jordan|Jamie...</td>\n",
       "      <td>Josh Trank</td>\n",
       "      <td>Change is coming.</td>\n",
       "      <td>Four young outsiders teleport to a dangerous u...</td>\n",
       "      <td>100</td>\n",
       "      <td>Action|Adventure|Science Fiction</td>\n",
       "      <td>Twentieth Century Fox Film Corporation|Marv Fi...</td>\n",
       "      <td>8/5/2015</td>\n",
       "      <td>4.4</td>\n",
       "      <td>2015</td>\n",
       "      <td>47977595</td>\n",
       "    </tr>\n",
       "  </tbody>\n",
       "</table>\n",
       "</div>"
      ],
      "text/plain": [
       "        imdb_id     budget    revenue            original_title  \\\n",
       "208   tt2318092   20000000   34077920              Endless Love   \n",
       "1619  tt0368008   80000000   96105964  The Manchurian Candidate   \n",
       "1070  tt1840417    6000000   13231461                 The Words   \n",
       "1628  tt0361596    6000000  119114517           Fahrenheit 9/11   \n",
       "55    tt1502712  120000001  167977596            Fantastic Four   \n",
       "\n",
       "                                                   cast  \\\n",
       "208   Alex Pettyfer|Gabriella Wilde|Robert Patrick|R...   \n",
       "1619  Denzel Washington|Meryl Streep|Liev Schreiber|...   \n",
       "1070  Bradley Cooper|Zoe Saldana|Jeremy Irons|Dennis...   \n",
       "1628  Michael Moore|George W. Bush|Ben Affleck|Stevi...   \n",
       "55    Miles Teller|Kate Mara|Michael B. Jordan|Jamie...   \n",
       "\n",
       "                         director                                    tagline  \\\n",
       "208                   Shana Feste                   Say Goodbye to Innocence   \n",
       "1619               Jonathan Demme   This summer everything is under control.   \n",
       "1070  Brian Klugman|Lee Sternthal  There's more than one way to take a life.   \n",
       "1628                Michael Moore           Controversy... what controversy?   \n",
       "55                     Josh Trank                          Change is coming.   \n",
       "\n",
       "                                               overview  runtime  \\\n",
       "208   When beautiful Jade (Gabriella Wilde) meets ch...      103   \n",
       "1619  When his army unit was ambushed during the fir...      129   \n",
       "1070  The Words follows young writer Rory Jansen who...       96   \n",
       "1628  Michael Moore's view on what happened to the U...      122   \n",
       "55    Four young outsiders teleport to a dangerous u...      100   \n",
       "\n",
       "                                genres  \\\n",
       "208                      Drama|Romance   \n",
       "1619            Drama|Thriller|Mystery   \n",
       "1070                    Drama|Thriller   \n",
       "1628                       Documentary   \n",
       "55    Action|Adventure|Science Fiction   \n",
       "\n",
       "                                   production_companies release_date  \\\n",
       "208      Universal Pictures|Fake Empire|Bluegrass Films    2/12/2014   \n",
       "1619  Paramount Pictures|Scott Rudin Productions|Cli...    7/30/2004   \n",
       "1070    Serenade Films|CBS Films|Also Known As Pictures     9/7/2012   \n",
       "1628       BIM Distribuzione|Fellowship Adventure Group    6/25/2004   \n",
       "55    Twentieth Century Fox Film Corporation|Marv Fi...     8/5/2015   \n",
       "\n",
       "      vote_average  release_year     profit  \n",
       "208            6.6          2014   14077920  \n",
       "1619           6.1          2004   16105964  \n",
       "1070           6.3          2012    7231461  \n",
       "1628           6.6          2004  113114517  \n",
       "55             4.4          2015   47977595  "
      ]
     },
     "execution_count": 65,
     "metadata": {},
     "output_type": "execute_result"
    }
   ],
   "source": [
    "data = pd.read_csv('movie_bd_v5.csv')\n",
    "data['profit'] = data.revenue - data.budget # создание столбца прибыли\n",
    "data.sample(5)"
   ]
  },
  {
   "cell_type": "code",
   "execution_count": 13,
   "metadata": {
    "colab": {},
    "colab_type": "code",
    "id": "CoYUnagMVp-C"
   },
   "outputs": [
    {
     "data": {
      "text/html": [
       "<div>\n",
       "<style scoped>\n",
       "    .dataframe tbody tr th:only-of-type {\n",
       "        vertical-align: middle;\n",
       "    }\n",
       "\n",
       "    .dataframe tbody tr th {\n",
       "        vertical-align: top;\n",
       "    }\n",
       "\n",
       "    .dataframe thead th {\n",
       "        text-align: right;\n",
       "    }\n",
       "</style>\n",
       "<table border=\"1\" class=\"dataframe\">\n",
       "  <thead>\n",
       "    <tr style=\"text-align: right;\">\n",
       "      <th></th>\n",
       "      <th>budget</th>\n",
       "      <th>revenue</th>\n",
       "      <th>runtime</th>\n",
       "      <th>vote_average</th>\n",
       "      <th>release_year</th>\n",
       "      <th>profit</th>\n",
       "    </tr>\n",
       "  </thead>\n",
       "  <tbody>\n",
       "    <tr>\n",
       "      <th>count</th>\n",
       "      <td>1.889000e+03</td>\n",
       "      <td>1.889000e+03</td>\n",
       "      <td>1889.000000</td>\n",
       "      <td>1889.000000</td>\n",
       "      <td>1889.000000</td>\n",
       "      <td>1.889000e+03</td>\n",
       "    </tr>\n",
       "    <tr>\n",
       "      <th>mean</th>\n",
       "      <td>5.431083e+07</td>\n",
       "      <td>1.553653e+08</td>\n",
       "      <td>109.658549</td>\n",
       "      <td>6.140762</td>\n",
       "      <td>2007.860773</td>\n",
       "      <td>1.010545e+08</td>\n",
       "    </tr>\n",
       "    <tr>\n",
       "      <th>std</th>\n",
       "      <td>4.858721e+07</td>\n",
       "      <td>2.146698e+08</td>\n",
       "      <td>18.017041</td>\n",
       "      <td>0.764763</td>\n",
       "      <td>4.468841</td>\n",
       "      <td>1.830733e+08</td>\n",
       "    </tr>\n",
       "    <tr>\n",
       "      <th>min</th>\n",
       "      <td>5.000000e+06</td>\n",
       "      <td>2.033165e+06</td>\n",
       "      <td>63.000000</td>\n",
       "      <td>3.300000</td>\n",
       "      <td>2000.000000</td>\n",
       "      <td>-1.657101e+08</td>\n",
       "    </tr>\n",
       "    <tr>\n",
       "      <th>25%</th>\n",
       "      <td>2.000000e+07</td>\n",
       "      <td>3.456058e+07</td>\n",
       "      <td>97.000000</td>\n",
       "      <td>5.600000</td>\n",
       "      <td>2004.000000</td>\n",
       "      <td>5.000000e+06</td>\n",
       "    </tr>\n",
       "    <tr>\n",
       "      <th>50%</th>\n",
       "      <td>3.800000e+07</td>\n",
       "      <td>8.361541e+07</td>\n",
       "      <td>107.000000</td>\n",
       "      <td>6.100000</td>\n",
       "      <td>2008.000000</td>\n",
       "      <td>4.400041e+07</td>\n",
       "    </tr>\n",
       "    <tr>\n",
       "      <th>75%</th>\n",
       "      <td>7.200000e+07</td>\n",
       "      <td>1.782626e+08</td>\n",
       "      <td>120.000000</td>\n",
       "      <td>6.600000</td>\n",
       "      <td>2012.000000</td>\n",
       "      <td>1.201842e+08</td>\n",
       "    </tr>\n",
       "    <tr>\n",
       "      <th>max</th>\n",
       "      <td>3.800000e+08</td>\n",
       "      <td>2.781506e+09</td>\n",
       "      <td>214.000000</td>\n",
       "      <td>8.100000</td>\n",
       "      <td>2015.000000</td>\n",
       "      <td>2.544506e+09</td>\n",
       "    </tr>\n",
       "  </tbody>\n",
       "</table>\n",
       "</div>"
      ],
      "text/plain": [
       "             budget       revenue      runtime  vote_average  release_year  \\\n",
       "count  1.889000e+03  1.889000e+03  1889.000000   1889.000000   1889.000000   \n",
       "mean   5.431083e+07  1.553653e+08   109.658549      6.140762   2007.860773   \n",
       "std    4.858721e+07  2.146698e+08    18.017041      0.764763      4.468841   \n",
       "min    5.000000e+06  2.033165e+06    63.000000      3.300000   2000.000000   \n",
       "25%    2.000000e+07  3.456058e+07    97.000000      5.600000   2004.000000   \n",
       "50%    3.800000e+07  8.361541e+07   107.000000      6.100000   2008.000000   \n",
       "75%    7.200000e+07  1.782626e+08   120.000000      6.600000   2012.000000   \n",
       "max    3.800000e+08  2.781506e+09   214.000000      8.100000   2015.000000   \n",
       "\n",
       "             profit  \n",
       "count  1.889000e+03  \n",
       "mean   1.010545e+08  \n",
       "std    1.830733e+08  \n",
       "min   -1.657101e+08  \n",
       "25%    5.000000e+06  \n",
       "50%    4.400041e+07  \n",
       "75%    1.201842e+08  \n",
       "max    2.544506e+09  "
      ]
     },
     "execution_count": 13,
     "metadata": {},
     "output_type": "execute_result"
    }
   ],
   "source": [
    "data.describe()"
   ]
  },
  {
   "cell_type": "markdown",
   "metadata": {
    "colab_type": "text",
    "id": "DTIt7ezGVp-G"
   },
   "source": [
    "# Предобработка"
   ]
  },
  {
   "cell_type": "code",
   "execution_count": 19,
   "metadata": {
    "colab": {},
    "colab_type": "code",
    "id": "jNb40DwKVp-H"
   },
   "outputs": [],
   "source": [
    "answers = {} # создадим словарь для ответов\n",
    "\n",
    "data['profit'] = data.revenue - data.budget # создание столбца прибыли\n",
    "\n",
    "# функция создающая список уникальных жанров\n",
    "def genres_list():\n",
    "    global_genres_list = []\n",
    "    counts_unique_genres = data.genres.nunique()\n",
    "    unique_genres = data.genres.unique()\n",
    "    for i in range(0,counts_unique_genres):\n",
    "        if '|' in unique_genres[i]:        \n",
    "            for ii in range(0,len(unique_genres[i].split('|'))):\n",
    "                if unique_genres[i].split('|')[ii] not in global_genres_list:\n",
    "                    global_genres_list.append(unique_genres[i].split('|')[ii])            \n",
    "        else:\n",
    "            if unique_genres[i] not in global_genres_list:\n",
    "                global_genres_list.append(unique_genres[i])\n",
    "    return global_genres_list\n",
    "\n",
    "# функция создающая список уникальных режисеров\n",
    "def director_list():\n",
    "    global_director_list = []\n",
    "    counts_unique_director = data.director.nunique()\n",
    "    unique_director = data.director.unique()\n",
    "    for i in range(0,counts_unique_director):\n",
    "        if '|' in unique_director[i]:        \n",
    "            for ii in range(0,len(unique_director[i].split('|'))):\n",
    "                if unique_director[i].split('|')[ii] not in global_director_list:\n",
    "                    global_director_list.append(unique_director[i].split('|')[ii])            \n",
    "        else:\n",
    "            if unique_director[i] not in global_director_list:\n",
    "                global_director_list.append(unique_director[i])\n",
    "    return global_director_list\n",
    "\n",
    "# функция создающая список уникальных актеров\n",
    "def cast_list():\n",
    "    global_cast_list = []\n",
    "    counts_unique_cast = data.cast.nunique()\n",
    "    unique_cast = data.cast.unique()\n",
    "    for i in range(0,counts_unique_cast):\n",
    "        if '|' in unique_cast[i]:        \n",
    "            for ii in range(0,len(unique_cast[i].split('|'))):\n",
    "                if unique_cast[i].split('|')[ii] not in global_cast_list:\n",
    "                    global_cast_list.append(unique_cast[i].split('|')[ii])            \n",
    "        else:\n",
    "            if unique_cast[i] not in global_cast_list:\n",
    "                global_cast_list.append(unique_cast[i])\n",
    "    return global_cast_list\n",
    "\n",
    "# функция создающая список уникальных актеров в фильмах 2012 года\n",
    "data_2012 = data[data.release_year == 2012]\n",
    "def cast_list_2012():\n",
    "    global_cast_list_2012 = []\n",
    "    counts_unique_cast = data_2012.cast.nunique()\n",
    "    unique_cast = data_2012.cast.unique()\n",
    "    for i in range(0,counts_unique_cast):\n",
    "        if '|' in unique_cast[i]:        \n",
    "            for ii in range(0,len(unique_cast[i].split('|'))):\n",
    "                if unique_cast[i].split('|')[ii] not in global_cast_list_2012:\n",
    "                    global_cast_list_2012.append(unique_cast[i].split('|')[ii])            \n",
    "        else:\n",
    "            if unique_cast[i] not in global_cast_list_2012:\n",
    "                global_cast_list_2012.append(unique_cast[i])\n",
    "    return global_cast_list_2012\n",
    "\n",
    "# функция создающая список уникальных актеров в 500 самых бюджетных фильмах\n",
    "data_top = data[data.budget > data.budget.mean()]\n",
    "def cast_list_top():\n",
    "    global_cast_list_top = []\n",
    "    counts_unique_cast = data_top.cast.nunique()\n",
    "    unique_cast = data_top.cast.unique()\n",
    "    for i in range(0,counts_unique_cast):\n",
    "        if '|' in unique_cast[i]:        \n",
    "            for ii in range(0,len(unique_cast[i].split('|'))):\n",
    "                if unique_cast[i].split('|')[ii] not in global_cast_list_top:\n",
    "                    global_cast_list_top.append(unique_cast[i].split('|')[ii])            \n",
    "        else:\n",
    "            if unique_cast[i] not in global_cast_list_top:\n",
    "                global_cast_list_top.append(unique_cast[i])\n",
    "    return global_cast_list_top\n",
    "\n",
    "# функция преобразования даты релиза в номер месяца\n",
    "def release_date_month(date):\n",
    "    month = date.split('/')[0]\n",
    "    return month\n",
    "\n",
    "# функция создающая список уникальных режисеров\n",
    "def director_list():\n",
    "    global_director_list = []\n",
    "    counts_unique_director = data.director.nunique()\n",
    "    unique_director= data.director.unique()\n",
    "    for i in range(0,counts_unique_director):\n",
    "        if '|' in unique_director[i]:        \n",
    "            for ii in range(0,len(unique_director[i].split('|'))):\n",
    "                if unique_director[i].split('|')[ii] not in global_director_list:\n",
    "                    global_director_list.append(unique_director[i].split('|')[ii])            \n",
    "        else:\n",
    "            if unique_director[i] not in global_director_list:\n",
    "                global_director_list.append(unique_director[i])\n",
    "    return global_director_list\n",
    "\n",
    "# функция создающая список уникальных студий\n",
    "def production_companies_list():\n",
    "    global_production_companies_list = []\n",
    "    counts_unique_production_companies = data.production_companies.nunique()\n",
    "    unique_production_companies= data.production_companies.unique()\n",
    "    for i in range(0,counts_unique_production_companies):\n",
    "        if '|' in unique_production_companies[i]:        \n",
    "            for ii in range(0,len(unique_production_companies[i].split('|'))):\n",
    "                if unique_production_companies[i].split('|')[ii] not in global_production_companies_list:\n",
    "                    global_production_companies_list.append(unique_production_companies[i].split('|')[ii])            \n",
    "        else:\n",
    "            if unique_production_companies[i] not in global_production_companies_list:\n",
    "                global_production_companies_list.append(unique_production_companies[i])\n",
    "    return global_production_companies_list\n",
    "\n",
    "# тут другие ваши предобработки колонок например:\n",
    "\n",
    "#the time given in the dataset is in string format.\n",
    "#So we need to change this in datetime format\n",
    "# ..."
   ]
  },
  {
   "cell_type": "markdown",
   "metadata": {
    "colab_type": "text",
    "id": "YxZaH-nPVp-L"
   },
   "source": [
    "# 1. У какого фильма из списка самый большой бюджет?"
   ]
  },
  {
   "cell_type": "markdown",
   "metadata": {
    "colab_type": "text",
    "id": "Nd-G5gX6Vp-M"
   },
   "source": [
    "Использовать варианты ответов в коде решения запрещено.    \n",
    "Вы думаете и в жизни у вас будут варианты ответов?)"
   ]
  },
  {
   "cell_type": "code",
   "execution_count": 88,
   "metadata": {
    "colab": {},
    "colab_type": "code",
    "id": "uVnXAY5RVp-O"
   },
   "outputs": [],
   "source": [
    "# в словарь вставляем номер вопроса и ваш ответ на него\n",
    "# Пример: \n",
    "answers['1'] = '2. Spider-Man 3 (tt0413300)'\n",
    "# запишите свой вариант ответа\n",
    "answers['1'] = 'Pirates of the Caribbean: On Stranger Tides (tt1298650)' # +\n",
    "# если ответили верно, можете добавить комментарий со значком \"+\""
   ]
  },
  {
   "cell_type": "code",
   "execution_count": 13,
   "metadata": {
    "colab": {},
    "colab_type": "code",
    "id": "dZwb3m28Vp-S"
   },
   "outputs": [
    {
     "data": {
      "text/plain": [
       "723    Pirates of the Caribbean: On Stranger Tides\n",
       "Name: original_title, dtype: object"
      ]
     },
     "execution_count": 13,
     "metadata": {},
     "output_type": "execute_result"
    }
   ],
   "source": [
    "# тут пишем ваш код для решения данного вопроса:\n",
    "data.original_title[data.budget == data.budget.max()]"
   ]
  },
  {
   "cell_type": "markdown",
   "metadata": {
    "colab_type": "text",
    "id": "K7L3nbRXVp-X"
   },
   "source": [
    "ВАРИАНТ 2"
   ]
  },
  {
   "cell_type": "code",
   "execution_count": 0,
   "metadata": {
    "colab": {},
    "colab_type": "code",
    "id": "OGaoQI7rVp-X"
   },
   "outputs": [],
   "source": [
    "# можно добавлять разные варианты решения"
   ]
  },
  {
   "cell_type": "markdown",
   "metadata": {
    "colab_type": "text",
    "id": "FNRbbI3vVp-c"
   },
   "source": [
    "# 2. Какой из фильмов самый длительный (в минутах)?"
   ]
  },
  {
   "cell_type": "code",
   "execution_count": 11,
   "metadata": {
    "colab": {},
    "colab_type": "code",
    "id": "vHAoEXNTVp-d"
   },
   "outputs": [],
   "source": [
    "# думаю логику работы с этим словарем вы уже поняли, \n",
    "# по этому не буду больше его дублировать\n",
    "answers['2'] = 'Gods and Generals (tt0279111)' # +"
   ]
  },
  {
   "cell_type": "code",
   "execution_count": 10,
   "metadata": {
    "colab": {},
    "colab_type": "code",
    "id": "ot-VX2XrVp-g"
   },
   "outputs": [
    {
     "data": {
      "text/plain": [
       "1157    Gods and Generals\n",
       "Name: original_title, dtype: object"
      ]
     },
     "execution_count": 10,
     "metadata": {},
     "output_type": "execute_result"
    }
   ],
   "source": [
    "data.original_title[data.runtime == data.runtime.max()]"
   ]
  },
  {
   "cell_type": "markdown",
   "metadata": {
    "colab_type": "text",
    "id": "bapLlpW8Vp-k"
   },
   "source": [
    "# 3. Какой из фильмов самый короткий (в минутах)?\n",
    "\n",
    "\n",
    "\n"
   ]
  },
  {
   "cell_type": "code",
   "execution_count": 15,
   "metadata": {
    "colab": {},
    "colab_type": "code",
    "id": "YBxaSHuAVp-l"
   },
   "outputs": [],
   "source": [
    "data.original_title[data.runtime == data.runtime.min()]\n",
    "answers['3'] = 'Winnie the Pooh (tt1449283)' # +"
   ]
  },
  {
   "cell_type": "markdown",
   "metadata": {
    "colab_type": "text",
    "id": "TfQbxbfNVp-p"
   },
   "source": [
    "# 4. Какова средняя длительность фильмов?\n"
   ]
  },
  {
   "cell_type": "code",
   "execution_count": 17,
   "metadata": {
    "colab": {},
    "colab_type": "code",
    "id": "5K6dKZYVVp-q"
   },
   "outputs": [],
   "source": [
    "data.runtime.mean()\n",
    "answers['4'] = '110' # +"
   ]
  },
  {
   "cell_type": "markdown",
   "metadata": {
    "colab_type": "text",
    "id": "r5TvbnT_Vp-u"
   },
   "source": [
    "# 5. Каково медианное значение длительности фильмов? "
   ]
  },
  {
   "cell_type": "code",
   "execution_count": 19,
   "metadata": {
    "colab": {},
    "colab_type": "code",
    "id": "iBROplKnVp-v"
   },
   "outputs": [],
   "source": [
    "data.runtime.median()\n",
    "answers['5'] = '107' # +"
   ]
  },
  {
   "cell_type": "markdown",
   "metadata": {
    "colab_type": "text",
    "id": "39P-deDSVp-y"
   },
   "source": [
    "# 6. Какой самый прибыльный фильм?\n",
    "#### Внимание! Здесь и далее под «прибылью» или «убытками» понимается разность между сборами и бюджетом фильма. (прибыль = сборы - бюджет) в нашем датасете это будет (profit = revenue - budget) "
   ]
  },
  {
   "cell_type": "code",
   "execution_count": 23,
   "metadata": {
    "colab": {},
    "colab_type": "code",
    "id": "UYZh4T9WVp-y"
   },
   "outputs": [],
   "source": [
    "# лучше код получения столбца profit вынести в Предобработку что в начале\n",
    "data.original_title[data.profit == data.profit.max()]\n",
    "answers['6'] = 'Avatar (tt0499549)' # +"
   ]
  },
  {
   "cell_type": "markdown",
   "metadata": {
    "colab_type": "text",
    "id": "M99JmIX4Vp-2"
   },
   "source": [
    "# 7. Какой фильм самый убыточный? "
   ]
  },
  {
   "cell_type": "code",
   "execution_count": 24,
   "metadata": {
    "colab": {},
    "colab_type": "code",
    "id": "w-D2m4XPVp-3"
   },
   "outputs": [
    {
     "data": {
      "text/plain": [
       "1245    The Lone Ranger\n",
       "Name: original_title, dtype: object"
      ]
     },
     "execution_count": 24,
     "metadata": {},
     "output_type": "execute_result"
    }
   ],
   "source": [
    "data.original_title[data.profit == data.profit.min()]\n",
    "answers['7'] = 'The Lone Ranger (tt1210819)' # +"
   ]
  },
  {
   "cell_type": "markdown",
   "metadata": {
    "colab_type": "text",
    "id": "wEOM5ERVVp-6"
   },
   "source": [
    "# 8. У скольких фильмов из датасета объем сборов оказался выше бюджета?"
   ]
  },
  {
   "cell_type": "code",
   "execution_count": 6,
   "metadata": {
    "colab": {},
    "colab_type": "code",
    "id": "y00_7HD6Vp-7"
   },
   "outputs": [],
   "source": [
    "data[data.revenue > data.budget].count()\n",
    "answers['8'] = '1478' # +"
   ]
  },
  {
   "cell_type": "markdown",
   "metadata": {
    "colab_type": "text",
    "id": "xhpspA9KVp_A"
   },
   "source": [
    "# 9. Какой фильм оказался самым кассовым в 2008 году?"
   ]
  },
  {
   "cell_type": "code",
   "execution_count": 72,
   "metadata": {
    "colab": {},
    "colab_type": "code",
    "id": "MoUyQr9RVp_B"
   },
   "outputs": [],
   "source": [
    "temp_data = data[data['release_year'] == 2008]\n",
    "temp_data.original_title[temp_data.revenue == temp_data.revenue.max()]\n",
    "answers['9'] = 'The Dark Knight (tt0468569)' # + "
   ]
  },
  {
   "cell_type": "markdown",
   "metadata": {
    "colab_type": "text",
    "id": "Zi4hDKidVp_F"
   },
   "source": [
    "# 10. Самый убыточный фильм за период с 2012 по 2014 г. (включительно)?\n"
   ]
  },
  {
   "cell_type": "code",
   "execution_count": 78,
   "metadata": {
    "colab": {},
    "colab_type": "code",
    "id": "XqyRmufJVp_F"
   },
   "outputs": [],
   "source": [
    "temp_data = data[(data['release_year'] < 2015) | (data['release_year'] > 2011)]\n",
    "temp_data.original_title[temp_data.profit == temp_data.profit.min()]\n",
    "answers['10'] = 'The Lone Ranger (tt1210819)' # +"
   ]
  },
  {
   "cell_type": "markdown",
   "metadata": {
    "colab_type": "text",
    "id": "EA7Sa9dkVp_I"
   },
   "source": [
    "# 11. Какого жанра фильмов больше всего?"
   ]
  },
  {
   "cell_type": "code",
   "execution_count": 210,
   "metadata": {
    "colab": {},
    "colab_type": "code",
    "id": "zsJAwJ8QVp_J"
   },
   "outputs": [],
   "source": [
    "# эту задачу тоже можно решать разными подходами, попробуй реализовать разные варианты\n",
    "# если будешь добавлять функцию - выноси ее в предобработку что в начале\n",
    "list_temp = []\n",
    "list_list_genres = []\n",
    "for i in range(1,len(genres_list())):\n",
    "    list_temp.append(genres_list()[i])\n",
    "    list_temp.append(data.genres[data.genres.str.contains(genres_list()[i], regex=False)].count())\n",
    "    list_list_genres.append(list_temp)\n",
    "    list_temp = []    \n",
    "df_genres = pd.DataFrame(list_list_genres)\n",
    "df_genres.sort_values(by=1)\n",
    "\n",
    "answers['11'] = 'Drama' # +"
   ]
  },
  {
   "cell_type": "markdown",
   "metadata": {
    "colab_type": "text",
    "id": "Ax6g2C8SVp_M"
   },
   "source": [
    "ВАРИАНТ 2"
   ]
  },
  {
   "cell_type": "code",
   "execution_count": null,
   "metadata": {
    "colab": {},
    "colab_type": "code",
    "id": "otO3SbrSVp_N"
   },
   "outputs": [],
   "source": []
  },
  {
   "cell_type": "markdown",
   "metadata": {
    "colab_type": "text",
    "id": "T9_bPWpkVp_Q"
   },
   "source": [
    "# 12. Фильмы какого жанра чаще всего становятся прибыльными? "
   ]
  },
  {
   "cell_type": "code",
   "execution_count": 383,
   "metadata": {
    "colab": {},
    "colab_type": "code",
    "id": "Tmt8MaK1Vp_R"
   },
   "outputs": [],
   "source": [
    "list_temp = []\n",
    "list_list_profit = []\n",
    "for i in range(1,len(genres_list())):\n",
    "    list_temp.append(genres_list()[i])\n",
    "    list_temp.append(data.profit[(data.genres.str.contains(genres_list()[i], regex=False)) \\\n",
    "    & (data.profit > 0)].count())\n",
    "    list_list_profit.append(list_temp)\n",
    "    list_temp = []    \n",
    "df_profit = pd.DataFrame(list_list_profit)\n",
    "df_profit.sort_values(by=1)\n",
    "\n",
    "answers['12'] = 'Drama' # +"
   ]
  },
  {
   "cell_type": "markdown",
   "metadata": {
    "colab_type": "text",
    "id": "0F23bgsDVp_U"
   },
   "source": [
    "# 13. У какого режиссера самые большие суммарные кассовые сборы?"
   ]
  },
  {
   "cell_type": "code",
   "execution_count": 300,
   "metadata": {
    "colab": {},
    "colab_type": "code",
    "id": "K6Z3J8ygVp_X"
   },
   "outputs": [],
   "source": [
    "list_temp = []\n",
    "list_list_revenue = []\n",
    "for i in range(1,len(director_list())):\n",
    "    list_temp.append(director_list()[i])\n",
    "    list_temp.append(data.revenue[data.director.str.contains(director_list()[i], regex=False)].sum())\n",
    "    list_list_revenue.append(list_temp)\n",
    "    list_temp = []\n",
    "df_revenue = pd.DataFrame(list_list_revenue)\n",
    "df_revenue.sort_values(by=1)\n",
    "\n",
    "answers['13'] = 'Peter Jackson' # +"
   ]
  },
  {
   "cell_type": "markdown",
   "metadata": {
    "colab_type": "text",
    "id": "PsYC9FgRVp_a"
   },
   "source": [
    "# 14. Какой режисер снял больше всего фильмов в стиле Action?"
   ]
  },
  {
   "cell_type": "code",
   "execution_count": 327,
   "metadata": {
    "colab": {},
    "colab_type": "code",
    "id": "wd2M-wHeVp_b"
   },
   "outputs": [],
   "source": [
    "list_temp = []\n",
    "list_list_action = []\n",
    "for i in range(1,len(director_list())):\n",
    "    list_temp.append(director_list()[i])\n",
    "    list_temp.append(data.director[(data.director.str.contains(director_list()[i], regex=False)) \\\n",
    "    & (data.genres.str.contains('Action', regex=False))].count())\n",
    "    list_list_action.append(list_temp)\n",
    "    list_temp = []\n",
    "df_action = pd.DataFrame(list_list_action)\n",
    "df_action.sort_values(by=1)\n",
    "\n",
    "answers['14'] = 'Robert Rodriguez' # +"
   ]
  },
  {
   "cell_type": "markdown",
   "metadata": {
    "colab_type": "text",
    "id": "PQ0KciD7Vp_f"
   },
   "source": [
    "# 15. Фильмы с каким актером принесли самые высокие кассовые сборы в 2012 году? "
   ]
  },
  {
   "cell_type": "code",
   "execution_count": 348,
   "metadata": {
    "colab": {},
    "colab_type": "code",
    "id": "aga62oeKVp_g"
   },
   "outputs": [],
   "source": [
    "list_temp = []\n",
    "list_list_cast = []\n",
    "for i in range(1,len(cast_list_2012())):\n",
    "    list_temp.append(cast_list_2012()[i])\n",
    "    list_temp.append(data_2012.revenue[data_2012.cast.str.contains(cast_list_2012()[i], regex=False)].sum())\n",
    "    list_list_cast.append(list_temp)\n",
    "    list_temp = []\n",
    "df_cast = pd.DataFrame(list_list_cast)\n",
    "df_cast.sort_values(by=1)\n",
    "\n",
    "answers['15'] = 'Chris Hemsworth' # +"
   ]
  },
  {
   "cell_type": "markdown",
   "metadata": {
    "colab_type": "text",
    "id": "mWHyyL7QVp_j"
   },
   "source": [
    "# 16. Какой актер снялся в большем количестве высокобюджетных фильмов?"
   ]
  },
  {
   "cell_type": "code",
   "execution_count": null,
   "metadata": {
    "colab": {},
    "colab_type": "code",
    "id": "qQtmHKTFVp_k"
   },
   "outputs": [],
   "source": [
    "list_temp = []\n",
    "list_list_revenue = []\n",
    "for i in range(1,len(cast_list_top())):\n",
    "    list_temp.append(cast_list_top()[i])\n",
    "    list_temp.append(data_top.revenue[data_top.cast.str.contains(cast_list_top()[i], regex=False)].count())\n",
    "    list_list_revenue.append(list_temp)\n",
    "    list_temp = []\n",
    "df_cast_top = pd.DataFrame(list_list_revenue)\n",
    "df_cast_top.sort_values(by=1)\n",
    "\n",
    "answers['16'] = 'Matt Damon' # +"
   ]
  },
  {
   "cell_type": "markdown",
   "metadata": {
    "colab_type": "text",
    "id": "NIh6AaW5Vp_n"
   },
   "source": [
    "# 17. В фильмах какого жанра больше всего снимался Nicolas Cage? "
   ]
  },
  {
   "cell_type": "code",
   "execution_count": 387,
   "metadata": {
    "colab": {},
    "colab_type": "code",
    "id": "H74SJDIBVp_n"
   },
   "outputs": [],
   "source": [
    "list_temp = []\n",
    "list_list_profit = []\n",
    "for i in range(1,len(genres_list())):\n",
    "    list_temp.append(genres_list()[i])\n",
    "    list_temp.append(data.profit[(data.genres.str.contains(genres_list()[i], regex=False)) \\\n",
    "    & (data.cast.str.contains('Nicolas Cage', regex=False))].count())\n",
    "    list_list_profit.append(list_temp)\n",
    "    list_temp = []    \n",
    "df_profit = pd.DataFrame(list_list_profit)\n",
    "df_profit.sort_values(by=1)\n",
    "\n",
    "answers['17'] = 'Thriller' # -"
   ]
  },
  {
   "cell_type": "markdown",
   "metadata": {
    "colab_type": "text",
    "id": "RqOmPRfWVp_q"
   },
   "source": [
    "# 18. Самый убыточный фильм от Paramount Pictures"
   ]
  },
  {
   "cell_type": "code",
   "execution_count": 74,
   "metadata": {
    "colab": {},
    "colab_type": "code",
    "id": "9E_B0Y96Vp_r"
   },
   "outputs": [],
   "source": [
    "data[data.production_companies.str.contains( 'Paramount Pictures')].sort_values(by='profit')\n",
    "answers['18'] = 'K-19: The Widowmaker (tt0267626)' # +"
   ]
  },
  {
   "cell_type": "markdown",
   "metadata": {
    "colab_type": "text",
    "id": "vS8Ur6ddVp_u"
   },
   "source": [
    "# 19. Какой год стал самым успешным по суммарным кассовым сборам?"
   ]
  },
  {
   "cell_type": "code",
   "execution_count": 12,
   "metadata": {
    "colab": {},
    "colab_type": "code",
    "id": "Dnbt4GdIVp_v"
   },
   "outputs": [],
   "source": [
    "data.groupby(['release_year']).sum().sort_values(by='revenue')\n",
    "answers['19'] = '2015' # +"
   ]
  },
  {
   "cell_type": "markdown",
   "metadata": {
    "colab_type": "text",
    "id": "JAzJh4QAVp_z"
   },
   "source": [
    "# 20. Какой самый прибыльный год для студии Warner Bros?"
   ]
  },
  {
   "cell_type": "code",
   "execution_count": 16,
   "metadata": {
    "colab": {},
    "colab_type": "code",
    "id": "wgVu02DEVp_0"
   },
   "outputs": [],
   "source": [
    "data[data.production_companies.str.contains('Warner Bros')].groupby(['release_year']).sum().sort_values(by='profit')\n",
    "answers['20'] = '2014' # +"
   ]
  },
  {
   "cell_type": "markdown",
   "metadata": {
    "colab_type": "text",
    "id": "8Im1S2HRVp_4"
   },
   "source": [
    "# 21. В каком месяце за все годы суммарно вышло больше всего фильмов?"
   ]
  },
  {
   "cell_type": "code",
   "execution_count": 36,
   "metadata": {
    "colab": {},
    "colab_type": "code",
    "id": "lev6TH7gVp_4"
   },
   "outputs": [],
   "source": [
    "data.groupby(data.release_date.apply(release_date_month)).count().sort_values(by='original_title')\n",
    "answers['21'] = 'Сентябрь' # +"
   ]
  },
  {
   "cell_type": "markdown",
   "metadata": {
    "colab_type": "text",
    "id": "uAJsZ_NeVp_7"
   },
   "source": [
    "# 22. Сколько суммарно вышло фильмов летом? (за июнь, июль, август)"
   ]
  },
  {
   "cell_type": "code",
   "execution_count": 117,
   "metadata": {
    "colab": {},
    "colab_type": "code",
    "id": "Aa-hEREoVp_8"
   },
   "outputs": [],
   "source": [
    "data[data.release_date.apply(release_date_month) == '6'].groupby(data.release_date.apply(release_date_month))\\\n",
    ".revenue.count()[0]\\\n",
    "+data[data.release_date.apply(release_date_month) == '7'].groupby(data.release_date.apply(release_date_month))\\\n",
    ".revenue.count()[0]\\\n",
    "+data[data.release_date.apply(release_date_month) == '8'].groupby(data.release_date.apply(release_date_month))\\\n",
    ".revenue.count()[0]\n",
    "answers['22'] = '450' # +"
   ]
  },
  {
   "cell_type": "markdown",
   "metadata": {
    "colab_type": "text",
    "id": "G94ppOY1VqAA"
   },
   "source": [
    "# 23. Для какого режиссера зима – самое продуктивное время года? "
   ]
  },
  {
   "cell_type": "code",
   "execution_count": 47,
   "metadata": {
    "colab": {},
    "colab_type": "code",
    "id": "RhNTsamuVqAB"
   },
   "outputs": [],
   "source": [
    "data23 = pd.crosstab(data.director, data.release_date.apply(release_date_month))\n",
    "data23['winter'] = data23['12'] + data23['1'] + data23['2']\n",
    "data23.sort_values(by='winter')\n",
    "answers['23'] = 'Peter Jackson' # +"
   ]
  },
  {
   "cell_type": "markdown",
   "metadata": {
    "colab_type": "text",
    "id": "RBo0JVjVVqAF"
   },
   "source": [
    "# 24. Какая студия дает самые длинные названия своим фильмам по количеству символов?"
   ]
  },
  {
   "cell_type": "code",
   "execution_count": 83,
   "metadata": {
    "colab": {},
    "colab_type": "code",
    "id": "QRGS8L0iVqAG"
   },
   "outputs": [
    {
     "name": "stderr",
     "output_type": "stream",
     "text": [
      "C:\\Users\\Dell\\anaconda3\\lib\\site-packages\\pandas\\core\\strings.py:1954: UserWarning: This pattern has match groups. To actually get the groups, use str.extract.\n",
      "  return func(self, *args, **kwargs)\n"
     ]
    },
    {
     "data": {
      "text/html": [
       "<div>\n",
       "<style scoped>\n",
       "    .dataframe tbody tr th:only-of-type {\n",
       "        vertical-align: middle;\n",
       "    }\n",
       "\n",
       "    .dataframe tbody tr th {\n",
       "        vertical-align: top;\n",
       "    }\n",
       "\n",
       "    .dataframe thead th {\n",
       "        text-align: right;\n",
       "    }\n",
       "</style>\n",
       "<table border=\"1\" class=\"dataframe\">\n",
       "  <thead>\n",
       "    <tr style=\"text-align: right;\">\n",
       "      <th></th>\n",
       "      <th>0</th>\n",
       "      <th>1</th>\n",
       "    </tr>\n",
       "  </thead>\n",
       "  <tbody>\n",
       "    <tr>\n",
       "      <th>1296</th>\n",
       "      <td>XM2 Productions</td>\n",
       "      <td>2.0</td>\n",
       "    </tr>\n",
       "    <tr>\n",
       "      <th>955</th>\n",
       "      <td>Global Entertainment Group</td>\n",
       "      <td>2.0</td>\n",
       "    </tr>\n",
       "    <tr>\n",
       "      <th>953</th>\n",
       "      <td>Ixtlan Productions</td>\n",
       "      <td>2.0</td>\n",
       "    </tr>\n",
       "    <tr>\n",
       "      <th>158</th>\n",
       "      <td>Berlanti Productions</td>\n",
       "      <td>3.0</td>\n",
       "    </tr>\n",
       "    <tr>\n",
       "      <th>1376</th>\n",
       "      <td>Everest Entertainment</td>\n",
       "      <td>3.0</td>\n",
       "    </tr>\n",
       "    <tr>\n",
       "      <th>...</th>\n",
       "      <td>...</td>\n",
       "      <td>...</td>\n",
       "    </tr>\n",
       "    <tr>\n",
       "      <th>1451</th>\n",
       "      <td>Warner Independent Pictures (WIP)</td>\n",
       "      <td>NaN</td>\n",
       "    </tr>\n",
       "    <tr>\n",
       "      <th>1485</th>\n",
       "      <td>The Movie Network (TMN)</td>\n",
       "      <td>NaN</td>\n",
       "    </tr>\n",
       "    <tr>\n",
       "      <th>1721</th>\n",
       "      <td>Munich Film Partners &amp; Company (MFP) MI2 Produ...</td>\n",
       "      <td>NaN</td>\n",
       "    </tr>\n",
       "    <tr>\n",
       "      <th>1731</th>\n",
       "      <td>Danmarks Radio (DR)</td>\n",
       "      <td>NaN</td>\n",
       "    </tr>\n",
       "    <tr>\n",
       "      <th>1754</th>\n",
       "      <td>Munich Film Partners &amp; Company (MFP) ROE Produ...</td>\n",
       "      <td>NaN</td>\n",
       "    </tr>\n",
       "  </tbody>\n",
       "</table>\n",
       "<p>1771 rows × 2 columns</p>\n",
       "</div>"
      ],
      "text/plain": [
       "                                                      0    1\n",
       "1296                                    XM2 Productions  2.0\n",
       "955                          Global Entertainment Group  2.0\n",
       "953                                  Ixtlan Productions  2.0\n",
       "158                                Berlanti Productions  3.0\n",
       "1376                              Everest Entertainment  3.0\n",
       "...                                                 ...  ...\n",
       "1451                  Warner Independent Pictures (WIP)  NaN\n",
       "1485                            The Movie Network (TMN)  NaN\n",
       "1721  Munich Film Partners & Company (MFP) MI2 Produ...  NaN\n",
       "1731                                Danmarks Radio (DR)  NaN\n",
       "1754  Munich Film Partners & Company (MFP) ROE Produ...  NaN\n",
       "\n",
       "[1771 rows x 2 columns]"
      ]
     },
     "execution_count": 83,
     "metadata": {},
     "output_type": "execute_result"
    }
   ],
   "source": [
    "data24 = data\n",
    "list_productions_films = []\n",
    "for i in range(len(production_companies_list())):\n",
    "    list_productions_films.append([production_companies_list()[i], \\\n",
    "    data24[data24.production_companies.str.contains(production_companies_list()[i])].original_title.apply(lambda x: len(x)).mean()])\n",
    "data24_2 = pd.DataFrame(list_productions_films)\n",
    "data24_2.sort_values(1).tail(50)\n",
    "#answers['24'] = 'Four By Two Productions' # +"
   ]
  },
  {
   "cell_type": "markdown",
   "metadata": {
    "colab_type": "text",
    "id": "9G0hbvR7VqAK"
   },
   "source": [
    "# 25. Описание фильмов какой студии в среднем самые длинные по количеству слов?"
   ]
  },
  {
   "cell_type": "code",
   "execution_count": 49,
   "metadata": {
    "colab": {},
    "colab_type": "code",
    "id": "Ge2GsLNxVqAK"
   },
   "outputs": [
    {
     "name": "stderr",
     "output_type": "stream",
     "text": [
      "C:\\Users\\Dell\\anaconda3\\lib\\site-packages\\pandas\\core\\strings.py:1954: UserWarning: This pattern has match groups. To actually get the groups, use str.extract.\n",
      "  return func(self, *args, **kwargs)\n"
     ]
    },
    {
     "data": {
      "text/html": [
       "<div>\n",
       "<style scoped>\n",
       "    .dataframe tbody tr th:only-of-type {\n",
       "        vertical-align: middle;\n",
       "    }\n",
       "\n",
       "    .dataframe tbody tr th {\n",
       "        vertical-align: top;\n",
       "    }\n",
       "\n",
       "    .dataframe thead th {\n",
       "        text-align: right;\n",
       "    }\n",
       "</style>\n",
       "<table border=\"1\" class=\"dataframe\">\n",
       "  <thead>\n",
       "    <tr style=\"text-align: right;\">\n",
       "      <th></th>\n",
       "      <th>0</th>\n",
       "      <th>1</th>\n",
       "    </tr>\n",
       "  </thead>\n",
       "  <tbody>\n",
       "    <tr>\n",
       "      <th>816</th>\n",
       "      <td>Empire Pictures</td>\n",
       "      <td>11.0</td>\n",
       "    </tr>\n",
       "    <tr>\n",
       "      <th>1144</th>\n",
       "      <td>Motion Picture Corporation of America</td>\n",
       "      <td>11.0</td>\n",
       "    </tr>\n",
       "    <tr>\n",
       "      <th>686</th>\n",
       "      <td>Projection Pictures</td>\n",
       "      <td>13.0</td>\n",
       "    </tr>\n",
       "    <tr>\n",
       "      <th>687</th>\n",
       "      <td>London Boulevard</td>\n",
       "      <td>13.0</td>\n",
       "    </tr>\n",
       "    <tr>\n",
       "      <th>1053</th>\n",
       "      <td>Our Stories Films</td>\n",
       "      <td>13.0</td>\n",
       "    </tr>\n",
       "    <tr>\n",
       "      <th>...</th>\n",
       "      <td>...</td>\n",
       "      <td>...</td>\n",
       "    </tr>\n",
       "    <tr>\n",
       "      <th>1451</th>\n",
       "      <td>Warner Independent Pictures (WIP)</td>\n",
       "      <td>NaN</td>\n",
       "    </tr>\n",
       "    <tr>\n",
       "      <th>1485</th>\n",
       "      <td>The Movie Network (TMN)</td>\n",
       "      <td>NaN</td>\n",
       "    </tr>\n",
       "    <tr>\n",
       "      <th>1721</th>\n",
       "      <td>Munich Film Partners &amp; Company (MFP) MI2 Produ...</td>\n",
       "      <td>NaN</td>\n",
       "    </tr>\n",
       "    <tr>\n",
       "      <th>1731</th>\n",
       "      <td>Danmarks Radio (DR)</td>\n",
       "      <td>NaN</td>\n",
       "    </tr>\n",
       "    <tr>\n",
       "      <th>1754</th>\n",
       "      <td>Munich Film Partners &amp; Company (MFP) ROE Produ...</td>\n",
       "      <td>NaN</td>\n",
       "    </tr>\n",
       "  </tbody>\n",
       "</table>\n",
       "<p>1771 rows × 2 columns</p>\n",
       "</div>"
      ],
      "text/plain": [
       "                                                      0     1\n",
       "816                                     Empire Pictures  11.0\n",
       "1144              Motion Picture Corporation of America  11.0\n",
       "686                                 Projection Pictures  13.0\n",
       "687                                    London Boulevard  13.0\n",
       "1053                                  Our Stories Films  13.0\n",
       "...                                                 ...   ...\n",
       "1451                  Warner Independent Pictures (WIP)   NaN\n",
       "1485                            The Movie Network (TMN)   NaN\n",
       "1721  Munich Film Partners & Company (MFP) MI2 Produ...   NaN\n",
       "1731                                Danmarks Radio (DR)   NaN\n",
       "1754  Munich Film Partners & Company (MFP) ROE Produ...   NaN\n",
       "\n",
       "[1771 rows x 2 columns]"
      ]
     },
     "execution_count": 49,
     "metadata": {},
     "output_type": "execute_result"
    }
   ],
   "source": [
    "data25 = data\n",
    "list_productions_films = []\n",
    "for i in range(len(production_companies_list())):\n",
    "#for i in range(20):\n",
    "    list_productions_films.append( \\\n",
    "    [production_companies_list()[i],data25[data25.production_companies.str.contains(production_companies_list()[i])] \\\n",
    "     .overview.apply(lambda x: len(x.split(' '))).mean()])\n",
    "data25_2 = pd.DataFrame(list_productions_films)\n",
    "data25_2.sort_values(1).tail(50)\n",
    "answers['25'] = 'Midnight Picture Show' # +"
   ]
  },
  {
   "cell_type": "markdown",
   "metadata": {
    "colab_type": "text",
    "id": "FJ1AFt90VqAP"
   },
   "source": [
    "# 26. Какие фильмы входят в 1 процент лучших по рейтингу? \n",
    "по vote_average"
   ]
  },
  {
   "cell_type": "code",
   "execution_count": 75,
   "metadata": {
    "colab": {},
    "colab_type": "code",
    "id": "8qmJVq4CVqAQ"
   },
   "outputs": [],
   "source": [
    "data26 = data\n",
    "data26.vote_average.quantile([0.99])\n",
    "data26[data26.vote_average > 7.8]\n",
    "answers['26'] = 'Inside Out, The Dark Knight, 12 Years a Slave' # +"
   ]
  },
  {
   "cell_type": "markdown",
   "metadata": {
    "colab_type": "text",
    "id": "MdXsUXbCVqAV"
   },
   "source": [
    "# 27. Какие актеры чаще всего снимаются в одном фильме вместе?\n"
   ]
  },
  {
   "cell_type": "markdown",
   "metadata": {
    "colab_type": "text",
    "id": "4ymnxEVoVqAW"
   },
   "source": [
    "ВАРИАНТ 2"
   ]
  },
  {
   "cell_type": "markdown",
   "metadata": {
    "colab_type": "text",
    "id": "U0nONFnGVqAX"
   },
   "source": [
    "# Submission"
   ]
  },
  {
   "cell_type": "code",
   "execution_count": 91,
   "metadata": {
    "colab": {},
    "colab_type": "code",
    "id": "IfcaRO9-VqAX",
    "outputId": "0f132912-32bb-4196-c98c-abfbc4ad5a5f"
   },
   "outputs": [
    {
     "data": {
      "text/plain": [
       "{'1': 'Pirates of the Caribbean: On Stranger Tides (tt1298650)',\n",
       " '2': 'Gods and Generals (tt0279111)',\n",
       " '3': 'Winnie the Pooh (tt1449283)',\n",
       " '4': '110',\n",
       " '5': '107',\n",
       " '6': 'Avatar (tt0499549)',\n",
       " '7': 'The Lone Ranger (tt1210819)',\n",
       " '8': '1478',\n",
       " '9': 'The Dark Knight (tt0468569)',\n",
       " '10': 'The Lone Ranger (tt1210819)',\n",
       " '11': 'Drama',\n",
       " '12': 'Drama',\n",
       " '13': 'Peter Jackson',\n",
       " '14': 'Robert Rodriguez',\n",
       " '15': 'Chris Hemsworth',\n",
       " '16': 'Matt Damon',\n",
       " '17': 'Thriller',\n",
       " '18': 'K-19: The Widowmaker (tt0267626)',\n",
       " '19': '2015',\n",
       " '20': '2014',\n",
       " '21': 'Сентябрь',\n",
       " '22': '450',\n",
       " '23': 'Peter Jackson',\n",
       " '24': 'Four By Two Productions',\n",
       " '25': 'Midnight Picture Show',\n",
       " '26': 'Inside Out, The Dark Knight, 12 Years a Slave',\n",
       " '27': 'Daniel Radcliffe & Rupert Grint'}"
      ]
     },
     "execution_count": 91,
     "metadata": {},
     "output_type": "execute_result"
    }
   ],
   "source": [
    "# в конце можно посмотреть свои ответы к каждому вопросу\n",
    "answers"
   ]
  },
  {
   "cell_type": "code",
   "execution_count": 89,
   "metadata": {
    "colab": {},
    "colab_type": "code",
    "id": "SiRmHPl8VqAd"
   },
   "outputs": [
    {
     "data": {
      "text/plain": [
       "27"
      ]
     },
     "execution_count": 89,
     "metadata": {},
     "output_type": "execute_result"
    }
   ],
   "source": [
    "# и убедиться что ни чего не пропустил)\n",
    "len(answers)"
   ]
  },
  {
   "cell_type": "code",
   "execution_count": null,
   "metadata": {
    "colab": {},
    "colab_type": "code",
    "id": "uCfuTkRbVqAg"
   },
   "outputs": [],
   "source": []
  },
  {
   "cell_type": "code",
   "execution_count": 0,
   "metadata": {
    "colab": {},
    "colab_type": "code",
    "id": "Vwx3NrkSVqAl"
   },
   "outputs": [],
   "source": []
  }
 ],
 "metadata": {
  "colab": {
   "name": "Copy of [SF-DST] Movies IMBD v4.1 TEMPLATE.ipynb",
   "provenance": []
  },
  "kernelspec": {
   "display_name": "Python 3",
   "language": "python",
   "name": "python3"
  },
  "language_info": {
   "codemirror_mode": {
    "name": "ipython",
    "version": 3
   },
   "file_extension": ".py",
   "mimetype": "text/x-python",
   "name": "python",
   "nbconvert_exporter": "python",
   "pygments_lexer": "ipython3",
   "version": "3.8.3"
  }
 },
 "nbformat": 4,
 "nbformat_minor": 1
}
